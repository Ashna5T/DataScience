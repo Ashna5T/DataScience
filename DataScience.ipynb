{
 "cells": [
  {
   "cell_type": "markdown",
   "id": "48ee9116",
   "metadata": {},
   "source": [
    "# Tools for Data Science"
   ]
  },
  {
   "cell_type": "markdown",
   "id": "67d42f6a",
   "metadata": {},
   "source": [
    "In this notebook, data science tools are summarized."
   ]
  },
  {
   "cell_type": "markdown",
   "id": "7c53e035",
   "metadata": {},
   "source": [
    "\n",
    "Some of the data science languages are:\n",
    "1. Python\n",
    "2. R\n",
    "3. SQL \n",
    "4. Java etc.."
   ]
  },
  {
   "cell_type": "markdown",
   "id": "23a43991",
   "metadata": {},
   "source": [
    "Some of the data science libraries are:\n",
    "1. Numpy\n",
    "2. TensorFlow\n",
    "3. Pandas\n",
    "4. Scikit-learn etc..\n",
    "\n"
   ]
  },
  {
   "cell_type": "markdown",
   "id": "ca17a909",
   "metadata": {},
   "source": [
    "|DataScience Tools|\n",
    "|---|\n",
    "|Jupyter Notebooks|\n",
    "|Anaconda|\n",
    "|R Studio|"
   ]
  },
  {
   "cell_type": "markdown",
   "id": "6f08576c",
   "metadata": {},
   "source": [
    "## Arithmetic Expression Examples in python "
   ]
  },
  {
   "cell_type": "code",
   "execution_count": 5,
   "id": "ea570850",
   "metadata": {},
   "outputs": [
    {
     "data": {
      "text/plain": [
       "60"
      ]
     },
     "execution_count": 5,
     "metadata": {},
     "output_type": "execute_result"
    }
   ],
   "source": [
    "# multiply and add numbers\n",
    "(5*8)+20"
   ]
  },
  {
   "cell_type": "code",
   "execution_count": 6,
   "id": "9a842b8b",
   "metadata": {},
   "outputs": [
    {
     "data": {
      "text/plain": [
       "3.3333333333333335"
      ]
     },
     "execution_count": 6,
     "metadata": {},
     "output_type": "execute_result"
    }
   ],
   "source": [
    "# convert minutes to hours\n",
    "200/60"
   ]
  },
  {
   "cell_type": "markdown",
   "id": "1934f73a",
   "metadata": {},
   "source": [
    "__Objectives__\n",
    "* List of data science languages \n",
    "* List of data science libraries \n",
    "* Create Markdown Cells\n",
    "* Add comments in the cells"
   ]
  },
  {
   "cell_type": "markdown",
   "id": "7e522876",
   "metadata": {},
   "source": [
    "### Author\n",
    "Ashna Thomas\n"
   ]
  }
 ],
 "metadata": {
  "kernelspec": {
   "display_name": "Python 3 (ipykernel)",
   "language": "python",
   "name": "python3"
  },
  "language_info": {
   "codemirror_mode": {
    "name": "ipython",
    "version": 3
   },
   "file_extension": ".py",
   "mimetype": "text/x-python",
   "name": "python",
   "nbconvert_exporter": "python",
   "pygments_lexer": "ipython3",
   "version": "3.9.12"
  }
 },
 "nbformat": 4,
 "nbformat_minor": 5
}
